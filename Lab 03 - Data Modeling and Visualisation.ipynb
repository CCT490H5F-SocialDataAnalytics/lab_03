{
 "cells": [
  {
   "cell_type": "markdown",
   "metadata": {},
   "source": [
    "# Lab 03 - Data Modeling and Visualisation\n",
    "\n",
    "Like we discussed this week and last  week, we build models to describe, explain, and predict things in the social world. We use visualisation to explore data, confirm our model, and present results to broader audiences.\n",
    "\n",
    "To do this, we'll work with the [More Tweets, More Votes](http://journals.plos.org/plosone/article?id=10.1371/journal.pone.0079449) data (the original paper is [here](http://journals.plos.org/plosone/article?id=10.1371/journal.pone.0079449), if you're curious), and the Iris data we have been using in lab.\n",
    "\n",
    "First we'll load the the More Tweets, More Votes (MTMV) data. The argument <code>index_col</code> defines one of the existing columns in the file as an index column."
   ]
  },
  {
   "cell_type": "code",
   "execution_count": null,
   "metadata": {
    "collapsed": false
   },
   "outputs": [],
   "source": [
    "import pandas as pd\n",
    "import numpy as np\n",
    "df_mtmv = pd.read_csv(\"data/mtmv_data_10_12.csv\", index_col = 0)\n",
    "\n",
    "## drop those columns which do not have vote_shape, mshare, or rep_inc\n",
    "df_mtmv = df_mtmv.dropna(subset = ['vote_share', 'mshare', 'rep_inc'])"
   ]
  },
  {
   "cell_type": "markdown",
   "metadata": {},
   "source": [
    "In the past lab we described the data frame by understanding the structure of the data. We took simple measures of central tendency and dispersion. Now we can divide those up by a third variable.\n",
    "\n",
    "To do this, we use a new method called <code>groupby</code> which allows us to group by a variable or set of variables and apply some operation across them."
   ]
  },
  {
   "cell_type": "code",
   "execution_count": null,
   "metadata": {
    "collapsed": false,
    "scrolled": true
   },
   "outputs": [],
   "source": [
    "## vote share and mention share mean \n",
    "## by Republican incumbency\n",
    "gr_mtmv = df_mtmv.groupby('rep_inc')\n",
    "gr_mtmv[['vote_share', 'mshare']].mean()"
   ]
  },
  {
   "cell_type": "code",
   "execution_count": null,
   "metadata": {
    "collapsed": false
   },
   "outputs": [],
   "source": [
    "## vote share and mention share standard deviation \n",
    "## by Republican incumbency\n",
    "gr_mtmv[['vote_share', 'mshare']].std()"
   ]
  },
  {
   "cell_type": "markdown",
   "metadata": {},
   "source": [
    "Now we can use a metric like [Pearson correlation](https://en.wikipedia.org/wiki/Pearson_product-moment_correlation_coefficient) to summarise the associated between two variables."
   ]
  },
  {
   "cell_type": "code",
   "execution_count": null,
   "metadata": {
    "collapsed": false
   },
   "outputs": [],
   "source": [
    "from scipy.stats.stats import pearsonr\n",
    "\n",
    "print(pearsonr(df_mtmv['mshare'], df_mtmv['vote_share'])[0])"
   ]
  },
  {
   "cell_type": "code",
   "execution_count": null,
   "metadata": {
    "collapsed": false
   },
   "outputs": [],
   "source": [
    "from statsmodels.formula.api import ols\n",
    "\n",
    "model = ols(\"vote_share ~ rep_inc + mshare + pct_white + \\\n",
    "            pct_college + med_hhinc + pct_female\", df_mtmv).fit()\n",
    "model.summary()"
   ]
  },
  {
   "cell_type": "markdown",
   "metadata": {},
   "source": [
    "### Exercise 1\n",
    "\n",
    "1. Load the iris dataset (it will be in the same place as the previous lab, 'data/iris.csv'). \n",
    "2. Take the mean and standard deviation of the sepal length and sepal width, grouped by species.\n",
    "3. Take the mean and standard deviation of petal length and petal width by species.\n",
    "4. Calculate the correlation between sepal length and petal length."
   ]
  },
  {
   "cell_type": "markdown",
   "metadata": {},
   "source": [
    "## Visualisation"
   ]
  },
  {
   "cell_type": "code",
   "execution_count": 15,
   "metadata": {
    "collapsed": true
   },
   "outputs": [],
   "source": [
    "import matplotlib\n",
    "import matplotlib.pyplot as plt\n",
    "%matplotlib inline\n",
    "matplotlib.style.use('ggplot')"
   ]
  },
  {
   "cell_type": "code",
   "execution_count": null,
   "metadata": {
    "collapsed": false
   },
   "outputs": [],
   "source": [
    "df_mtmv['mshare'].hist()"
   ]
  },
  {
   "cell_type": "code",
   "execution_count": null,
   "metadata": {
    "collapsed": false
   },
   "outputs": [],
   "source": [
    "df_mtmv['mshare'].plot.kde()"
   ]
  },
  {
   "cell_type": "code",
   "execution_count": null,
   "metadata": {
    "collapsed": false
   },
   "outputs": [],
   "source": [
    "df_mtmv[['mshare', 'vote_share']].hist()"
   ]
  },
  {
   "cell_type": "code",
   "execution_count": null,
   "metadata": {
    "collapsed": false
   },
   "outputs": [],
   "source": [
    "df_mtmv.plot.scatter(x = 'mshare', y = 'vote_share')"
   ]
  },
  {
   "cell_type": "code",
   "execution_count": null,
   "metadata": {
    "collapsed": false
   },
   "outputs": [],
   "source": [
    "ax = df_mtmv[df_mtmv['rep_inc'] == 1].plot.scatter(x = 'mshare', y = 'vote_share', color = 'Red', label = 'Rep')\n",
    "df_mtmv[df_mtmv['rep_inc'] == 0].plot.scatter(x = 'mshare', y = 'vote_share', color = 'Blue', label = 'Dem', ax = ax)"
   ]
  },
  {
   "cell_type": "markdown",
   "metadata": {
    "collapsed": true
   },
   "source": [
    "### Exercise 2\n",
    "\n",
    "1. Plot the histograms of both sepal length and sepal width.\n",
    "2. Plot the density plots of both petal length and petal length.\n",
    "3. Plot a scatter plot of sepal length and sepal width.\n",
    "4. Plot a scatter plot of sepal length and sepal width, where virginica is Green, setosa is Red, and versicolor is Blue.\n",
    "5. Do the same as 4 for petal length and width."
   ]
  }
 ],
 "metadata": {
  "anaconda-cloud": {},
  "kernelspec": {
   "display_name": "Python [Root]",
   "language": "python",
   "name": "Python [Root]"
  },
  "language_info": {
   "codemirror_mode": {
    "name": "ipython",
    "version": 3
   },
   "file_extension": ".py",
   "mimetype": "text/x-python",
   "name": "python",
   "nbconvert_exporter": "python",
   "pygments_lexer": "ipython3",
   "version": "3.5.2"
  }
 },
 "nbformat": 4,
 "nbformat_minor": 0
}
